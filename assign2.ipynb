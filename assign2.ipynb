{
  "nbformat": 4,
  "nbformat_minor": 0,
  "metadata": {
    "colab": {
      "name": "Untitled0.ipynb",
      "provenance": [],
      "authorship_tag": "ABX9TyNGvV5pjTHrMq6HqSQ8XyXS",
      "include_colab_link": true
    },
    "kernelspec": {
      "name": "python3",
      "display_name": "Python 3"
    }
  },
  "cells": [
    {
      "cell_type": "markdown",
      "metadata": {
        "id": "view-in-github",
        "colab_type": "text"
      },
      "source": [
        "<a href=\"https://colab.research.google.com/github/0102-sd/mycaptain/blob/master/assign2.ipynb\" target=\"_parent\"><img src=\"https://colab.research.google.com/assets/colab-badge.svg\" alt=\"Open In Colab\"/></a>"
      ]
    },
    {
      "cell_type": "code",
      "metadata": {
        "id": "qsGVIxxYnz6r",
        "colab_type": "code",
        "colab": {
          "base_uri": "https://localhost:8080/",
          "height": 69
        },
        "outputId": "db72e1ab-0309-4036-cdfc-fff9120515ff"
      },
      "source": [
        "a = [1,2,'my','captain',3]\n",
        "print(a[0])\n",
        "print(a[2])\n",
        "#lists are mutables\n",
        "a[1] = 'like'\n",
        "print(a)"
      ],
      "execution_count": 7,
      "outputs": [
        {
          "output_type": "stream",
          "text": [
            "1\n",
            "my\n",
            "[1, 'like', 'my', 'captain', 3]\n"
          ],
          "name": "stdout"
        }
      ]
    },
    {
      "cell_type": "code",
      "metadata": {
        "id": "ouzGbs0FpQbR",
        "colab_type": "code",
        "colab": {
          "base_uri": "https://localhost:8080/",
          "height": 86
        },
        "outputId": "109a1781-20eb-4869-b2ae-51edc52a906a"
      },
      "source": [
        "tu = (1,'accum',2,'python')\n",
        "print(tu)\n",
        "# tuples are immutable\n",
        "print(tu[2])\n",
        "print(tu[0:-1])\n",
        "print(tu[1:3])"
      ],
      "execution_count": 26,
      "outputs": [
        {
          "output_type": "stream",
          "text": [
            "(1, 'accum', 2, 'python')\n",
            "2\n",
            "(1, 'accum', 2)\n",
            "('accum', 2)\n"
          ],
          "name": "stdout"
        }
      ]
    },
    {
      "cell_type": "code",
      "metadata": {
        "id": "evprthyiquYt",
        "colab_type": "code",
        "colab": {
          "base_uri": "https://localhost:8080/",
          "height": 69
        },
        "outputId": "cad8e5f5-c41f-4977-a936-5fadd075908b"
      },
      "source": [
        "dict = {'a':2,'b':3,'c':4,'course':'python'}\n",
        "del dict['c']\n",
        "print(dict.keys())\n",
        "print(dict.items())\n",
        "print(dict)"
      ],
      "execution_count": 23,
      "outputs": [
        {
          "output_type": "stream",
          "text": [
            "dict_keys(['a', 'b', 'course'])\n",
            "dict_items([('a', 2), ('b', 3), ('course', 'python')])\n",
            "{'a': 2, 'b': 3, 'course': 'python'}\n"
          ],
          "name": "stdout"
        }
      ]
    }
  ]
}