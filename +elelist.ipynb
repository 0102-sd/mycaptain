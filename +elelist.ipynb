{
  "nbformat": 4,
  "nbformat_minor": 0,
  "metadata": {
    "colab": {
      "name": "Untitled0.ipynb",
      "provenance": [],
      "collapsed_sections": [],
      "authorship_tag": "ABX9TyNiY8E2gLS1fYr6WxIKqpaV",
      "include_colab_link": true
    },
    "kernelspec": {
      "name": "python3",
      "display_name": "Python 3"
    }
  },
  "cells": [
    {
      "cell_type": "markdown",
      "metadata": {
        "id": "view-in-github",
        "colab_type": "text"
      },
      "source": [
        "<a href=\"https://colab.research.google.com/github/0102-sd/mycaptain/blob/master/%2Belelist.ipynb\" target=\"_parent\"><img src=\"https://colab.research.google.com/assets/colab-badge.svg\" alt=\"Open In Colab\"/></a>"
      ]
    },
    {
      "cell_type": "code",
      "metadata": {
        "id": "mtjNSBRxp1xB",
        "colab_type": "code",
        "outputId": "f8e20350-c65d-4a49-a1a0-b433ae84a5a2",
        "colab": {
          "base_uri": "https://localhost:8080/",
          "height": 51
        }
      },
      "source": [
        "n = int((input('enter number ')))\n",
        "a = 0\n",
        "b = 1\n",
        "print(str(a)+str(\" \")+str(b) +str(\" \"),end=\"\")\n",
        "for i in range(n):\n",
        "    c=a+b\n",
        "    a=b\n",
        "    b=c\n",
        "    print(c,end=\" \")"
      ],
      "execution_count": 0,
      "outputs": [
        {
          "output_type": "stream",
          "text": [
            "enter number 8\n",
            "0 1 1 2 3 5 8 13 21 34 "
          ],
          "name": "stdout"
        }
      ]
    },
    {
      "cell_type": "code",
      "metadata": {
        "id": "r_Jc-1vnzgz1",
        "colab_type": "code",
        "colab": {
          "base_uri": "https://localhost:8080/",
          "height": 155
        },
        "outputId": "7d3739fa-3a3b-49a0-e2fc-0254258c7f4f"
      },
      "source": [
        "a = []\n",
        "n = int(input('enter number of elements in the list :'))\n",
        "for i in range(n):\n",
        "  data = int(input('enter elements '))\n",
        "  a.append(data)\n",
        "print('positive numbers from list are ')\n",
        "for i in a:\n",
        "  if i >= 0:\n",
        "    print(i,end=\" \")"
      ],
      "execution_count": 50,
      "outputs": [
        {
          "output_type": "stream",
          "text": [
            "enter number of elements in the list :5\n",
            "enter elements -2\n",
            "enter elements 12\n",
            "enter elements 23\n",
            "enter elements -10\n",
            "enter elements 76\n",
            "positive numbers from list are \n",
            "12 23 76 "
          ],
          "name": "stdout"
        }
      ]
    }
  ]
}